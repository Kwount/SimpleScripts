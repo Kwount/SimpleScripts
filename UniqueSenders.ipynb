{
 "cells": [
  {
   "cell_type": "code",
   "execution_count": 115,
   "metadata": {
    "collapsed": false
   },
   "outputs": [
    {
     "name": "stdout",
     "output_type": "stream",
     "text": [
      "Populating the interactive namespace from numpy and matplotlib\n",
      "                       NumberOfUsers\n",
      "NumberOfUniqueSenders               \n",
      "1                           36346100\n",
      "2                           10519246\n",
      "3                            6907419\n",
      "4                            5101209\n",
      "5                            3885409\n",
      "6                            2977558\n",
      "7                            2313368\n",
      "8                            1808318\n",
      "9                            1424813\n",
      "10                           1126542\n",
      "11                            894981\n",
      "12                            714650\n",
      "13                            572824\n",
      "14                            462064\n",
      "15                            373606\n",
      "16                            304231\n",
      "17                            248725\n",
      "18                            204659\n",
      "19                            168494\n",
      "20                            139271\n",
      "21                            115623\n",
      "22                             96463\n",
      "23                             80873\n",
      "24                             68093\n",
      "25                             56953\n",
      "26                             48246\n",
      "27                             40833\n",
      "28                             35050\n",
      "29                             29776\n",
      "30                             25396\n",
      "...                              ...\n",
      "1285                               1\n",
      "1359                               1\n",
      "1379                               1\n",
      "1385                               1\n",
      "1437                               1\n",
      "1456                               1\n",
      "1475                               1\n",
      "1582                               1\n",
      "1621                               1\n",
      "1626                               1\n",
      "1627                               2\n",
      "1632                               1\n",
      "1639                               1\n",
      "1645                               1\n",
      "1649                               1\n",
      "1662                               1\n",
      "1670                               1\n",
      "1672                               1\n",
      "1675                               2\n",
      "1880                               1\n",
      "1956                               1\n",
      "2175                               1\n",
      "2357                               1\n",
      "2376                               1\n",
      "2515                               1\n",
      "3308                               1\n",
      "3561                               1\n",
      "3571                               1\n",
      "3937                               1\n",
      "3959                               1\n",
      "\n",
      "[441 rows x 1 columns]\n"
     ]
    },
    {
     "name": "stderr",
     "output_type": "stream",
     "text": [
      "WARNING: pylab import has clobbered these variables: ['Text', 'interactive', 'Button', 'Widget']\n",
      "`%matplotlib` prevents importing * from pylab and numpy\n"
     ]
    }
   ],
   "source": [
    "import pandas as pd\n",
    "import matplotlib.pyplot as plt\n",
    "import csv\n",
    "\n",
    "%matplotlib inline\n",
    "%pylab inline\n",
    "\n",
    "pylab.rcParams['figure.figsize'] = (10, 5)\n",
    "df1 = pd.read_csv(\"UniqueSender.csv\",\n",
    "                  sep='\\t', encoding='latin1',\n",
    "                  index_col = 'NumberOfUniqueSenders')\n",
    "\n",
    "print(df1)"
   ]
  },
  {
   "cell_type": "code",
   "execution_count": 116,
   "metadata": {
    "collapsed": false
   },
   "outputs": [
    {
     "data": {
      "text/plain": [
       "<matplotlib.axes._subplots.AxesSubplot at 0x10ba0f6d0>"
      ]
     },
     "execution_count": 116,
     "metadata": {},
     "output_type": "execute_result"
    },
    {
     "data": {
      "image/png": "[encoded data removed]",
      "text/plain": [
       "<matplotlib.figure.Figure at 0x10ba05e50>"
      ]
     },
     "metadata": {},
     "output_type": "display_data"
    }
   ],
   "source": [
    "df1.plot()"
   ]
  },
  {
   "cell_type": "markdown",
   "metadata": {},
   "source": [
    "   # Show part of array"
   ]
  },
  {
   "cell_type": "code",
   "execution_count": 117,
   "metadata": {
    "collapsed": false
   },
   "outputs": [
    {
     "data": {
      "text/plain": [
       "<matplotlib.axes._subplots.AxesSubplot at 0x10baa20d0>"
      ]
     },
     "execution_count": 117,
     "metadata": {},
     "output_type": "execute_result"
    },
    {
     "data": {
      "image/png": "[encoded data removed]",
      "text/plain": [
       "<matplotlib.figure.Figure at 0x10ba7d5d0>"
      ]
     },
     "metadata": {},
     "output_type": "display_data"
    }
   ],
   "source": [
    "part_of_array = df1[:100]\n",
    "part_of_array.plot()"
   ]
  },
  {
   "cell_type": "code",
   "execution_count": 118,
   "metadata": {
    "collapsed": false
   },
   "outputs": [
    {
     "data": {
      "text/plain": [
       "<matplotlib.axes._subplots.AxesSubplot at 0x10bbc8fd0>"
      ]
     },
     "execution_count": 118,
     "metadata": {},
     "output_type": "execute_result"
    },
    {
     "data": {
      "image/png": "[encoded data removed]",
      "text/plain": [
       "<matplotlib.figure.Figure at 0x10bc2c9d0>"
      ]
     },
     "metadata": {},
     "output_type": "display_data"
    }
   ],
   "source": [
    "part_of_array = df1[:50]\n",
    "part_of_array.plot()"
   ]
  },
  {
   "cell_type": "code",
   "execution_count": 119,
   "metadata": {
    "collapsed": false
   },
   "outputs": [
    {
     "data": {
      "image/png": "[encoded data removed]",
      "text/plain": [
       "<matplotlib.figure.Figure at 0x10b7cd610>"
      ]
     },
     "metadata": {},
     "output_type": "display_data"
    }
   ],
   "source": [
    "from IPython.html.widgets import *\n",
    "\n",
    "def pltarray(f):\n",
    "    part_of_array = df1[:f]\n",
    "    part_of_array.plot()\n",
    "\n",
    "interact(pltarray, f=(1,441,10))"
   ]
  },
  {
   "cell_type": "markdown",
   "metadata": {},
   "source": [
    "# Split file for some range"
   ]
  },
  {
   "cell_type": "code",
   "execution_count": 112,
   "metadata": {
    "collapsed": false
   },
   "outputs": [],
   "source": [
    "import pandas as pd\n",
    "df1 = pd.read_csv(\"UniqueSender.csv\",\n",
    "                  sep='\\t', encoding='latin1')\n",
    "\n",
    "initial_array = df1.values"
   ]
  },
  {
   "cell_type": "code",
   "execution_count": 113,
   "metadata": {
    "collapsed": false
   },
   "outputs": [
    {
     "data": {
      "text/html": [
       "<tr><td><b>Range Of Unique Senders</b></td><td><b>Number Of Users (summary)</b></td><tr><td>[1,1]</td><td>36346100</td></tr><tr><td>[2,4]</td><td>22527874</td></tr><tr><td>[5,9]</td><td>12409466</td></tr><tr><td>[10,16]</td><td>4448898</td></tr><tr><td>[17,25]</td><td>1179154</td></tr><tr><td>[26,36]</td><td>274752</td></tr><tr><td>[37,49]</td><td>66400</td></tr><tr><td>[50,64]</td><td>18175</td></tr><tr><td>[65,81]</td><td>5869</td></tr><tr><td>[82,100]</td><td>2221</td></tr><tr><td>[101,121]</td><td>1009</td></tr><tr><td>[122,144]</td><td>473</td></tr><tr><td>[145,169]</td><td>168</td></tr><tr><td>[170,198]</td><td>122</td></tr><tr><td>[199,233]</td><td>65</td></tr><tr><td>[235,271]</td><td>46</td></tr><tr><td>[272,339]</td><td>48</td></tr><tr><td>[340,440]</td><td>51</td></tr><tr><td>[447,635]</td><td>47</td></tr><tr><td>[636,1146]</td><td>50</td></tr><tr><td>[1147,3959]</td><td>47</td></tr></table>"
      ],
      "text/plain": [
       "<IPython.core.display.HTML object>"
      ]
     },
     "metadata": {},
     "output_type": "display_data"
    }
   ],
   "source": [
    "# we will split array by numbers of unique senders with some range\n",
    "# step = 2*(№ of gange)\n",
    "# 1, [2,2+2*(1)], [2+2*(1)+1,2+2*(1)+1 + 2*(2)], [2+2*(1)+1 + 2*(2) +1, 2+2*(1)+1 + 2*(2) +1 +2*(3), etc]\n",
    "# 1, [2,4], [5,9], [10, 16], etc\n",
    "# in python it will be indexed as\n",
    "# 0, [1,3], [4,8], [9, 15]\n",
    "initial_array = df1.values\n",
    "\n",
    "from IPython.display import HTML, display\n",
    "\n",
    "sorted_array = []\n",
    "range_of_value = []    \n",
    "def slitarray():\n",
    "    range_index = 0\n",
    "    init_index = 0\n",
    "    low_index = init_index\n",
    "    high_index = 0  \n",
    "    value = 0\n",
    "    i = 0\n",
    "    while i < len(initial_array[:,0]) :\n",
    "        if (i <= high_index):\n",
    "            value = value + initial_array[i,1]\n",
    "            i += 1\n",
    "        if (i > high_index or i == len(initial_array[:,0])):\n",
    "#             print(\"[\" + str(initial_array[low_index,0]) + \",\" + str(initial_array[i-1,0]) + \"]   ---   [\" + str(value) + \"]\")\n",
    "            range_of_value.append(\"[\" + str(initial_array[low_index,0]) + \",\" + str(initial_array[i-1,0]) + \"]\")\n",
    "            low_index = i\n",
    "            sorted_array.append(value)\n",
    "            value = 0\n",
    "            range_index = range_index + 1  # index of next range\n",
    "            high_index = i + 2*range_index # end of range for next part\n",
    "\n",
    "def repr_html(tbl1, tbl2):\n",
    "    html = []#[\"<table width=100%>\"]\n",
    "    html.append(\"<tr>\")\n",
    "    html.append(\"<td><b>Range Of Unique Senders</b></td>\")\n",
    "    html.append(\"<td><b>Number Of Users (summary)</b></td>\")\n",
    "    for i in range(len(tbl1[:])):\n",
    "        html.append(\"<tr>\")\n",
    "        html.append(\"<td>{0}</td>\".format(tbl1[i]))\n",
    "        html.append(\"<td>{0}</td>\".format(tbl2[i]))\n",
    "        html.append(\"</tr>\")\n",
    "    html.append(\"</table>\")\n",
    "    return ''.join(html)\n",
    "    \n",
    "slitarray()\n",
    "display(HTML(repr_html(range_of_value, sorted_array)))\n"
   ]
  },
  {
   "cell_type": "code",
   "execution_count": null,
   "metadata": {
    "collapsed": true
   },
   "outputs": [],
   "source": []
  }
 ],
 "metadata": {
  "kernelspec": {
   "display_name": "Python 2",
   "language": "python",
   "name": "python2"
  },
  "language_info": {
   "codemirror_mode": {
    "name": "ipython",
    "version": 2
   },
   "file_extension": ".py",
   "mimetype": "text/x-python",
   "name": "python",
   "nbconvert_exporter": "python",
   "pygments_lexer": "ipython2",
   "version": "2.7.10"
  }
 },
 "nbformat": 4,
 "nbformat_minor": 0
}
